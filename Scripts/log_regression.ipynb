{
 "cells": [
  {
   "cell_type": "code",
   "execution_count": 35,
   "metadata": {},
   "outputs": [],
   "source": [
    "import pandas as pd\n",
    "import os\n",
    "from sklearn.model_selection import train_test_split\n",
    "from sklearn.linear_model import LogisticRegression\n",
    "from sklearn.metrics import log_loss\n",
    "from math import sqrt\n",
    "import numpy as np\n",
    "\n",
    "# Define constants\n",
    "data_path = \"../Data\"\n",
    "seed = 1\n",
    "submission_path = \"../Submissions\"\n",
    "\n",
    "# \n",
    "train_y = pd.read_csv(data_path + \"/train_labels.csv\")\n",
    "train_y.set_index(\"patient_id\", inplace=True)\n",
    "val1 = train_y['heart_disease_present']"
   ]
  },
  {
   "cell_type": "code",
   "execution_count": 25,
   "metadata": {},
   "outputs": [],
   "source": [
    "all_features = pd.read_csv(data_path + \"/train_values.csv\")\n",
    "all_features.set_index(\"patient_id\", inplace=True)"
   ]
  },
  {
   "cell_type": "code",
   "execution_count": 36,
   "metadata": {},
   "outputs": [
    {
     "data": {
      "text/plain": [
       "11.193158998231711"
      ]
     },
     "execution_count": 36,
     "metadata": {},
     "output_type": "execute_result"
    }
   ],
   "source": [
    "features1 = [\n",
    "    \"max_heart_rate_achieved\", \"age\", \"oldpeak_eq_st_depression\"\n",
    "]\n",
    "\n",
    "X1 = all_features[features1]\n",
    "\n",
    "train_X1, test_X1, train_y1, test_y1 = train_test_split(\n",
    "    X1, val1, test_size = 0.6, random_state=1\n",
    ")\n",
    "\n",
    "model = LogisticRegression(random_state = 1)\n",
    "model.fit(train_X1, train_y1)\n",
    "pred1 = model.predict(test_X1)\n",
    "logloss = log_loss(test_y1, pred1)\n",
    "logloss"
   ]
  },
  {
   "cell_type": "code",
   "execution_count": 6,
   "metadata": {},
   "outputs": [],
   "source": [
    "test_X = pd.read_csv(data_path + \"/test_values.csv\")\n",
    "test_X.set_index(\"patient_id\", inplace=True)\n",
    "\n",
    "\n",
    "def create_submission(file_name, train_X, train_y, pred_X, pred_index):\n",
    "    model = LogisticRegression(random_state = 1)\n",
    "    model.fit(train_X, train_y)\n",
    "    predictions = model.predict_proba(pred_X)\n",
    "    submission = pd.DataFrame(predictions[:,0], index = pred_index, columns=['heart_disease_present'])\n",
    "    submission.reset_index(inplace=True)\n",
    "    submission.to_csv(submission_path + \"/\" + file_name, index=False)\n",
    "    \n",
    "    return model\n",
    "\n",
    "def coefficients(model, features):\n",
    "    return pd.DataFrame(model.coef_[0,:], features, columns=[\"coef\"])"
   ]
  },
  {
   "cell_type": "code",
   "execution_count": 7,
   "metadata": {},
   "outputs": [
    {
     "ename": "NameError",
     "evalue": "name 'val' is not defined",
     "output_type": "error",
     "traceback": [
      "\u001b[1;31m---------------------------------------------------------------------------\u001b[0m",
      "\u001b[1;31mNameError\u001b[0m                                 Traceback (most recent call last)",
      "\u001b[1;32m<ipython-input-7-1cfdf88aa452>\u001b[0m in \u001b[0;36m<module>\u001b[1;34m()\u001b[0m\n\u001b[0;32m      2\u001b[0m     \u001b[1;34m\"submission1.csv\"\u001b[0m\u001b[1;33m,\u001b[0m\u001b[1;33m\u001b[0m\u001b[0m\n\u001b[0;32m      3\u001b[0m     \u001b[0mall_features\u001b[0m\u001b[1;33m[\u001b[0m\u001b[0mfeatures1\u001b[0m\u001b[1;33m]\u001b[0m\u001b[1;33m,\u001b[0m\u001b[1;33m\u001b[0m\u001b[0m\n\u001b[1;32m----> 4\u001b[1;33m     \u001b[0mval\u001b[0m\u001b[1;33m,\u001b[0m\u001b[1;33m\u001b[0m\u001b[0m\n\u001b[0m\u001b[0;32m      5\u001b[0m     \u001b[0mtest_X\u001b[0m\u001b[1;33m[\u001b[0m\u001b[0mfeatures1\u001b[0m\u001b[1;33m]\u001b[0m\u001b[1;33m,\u001b[0m\u001b[1;33m\u001b[0m\u001b[0m\n\u001b[0;32m      6\u001b[0m     \u001b[0mtest_X\u001b[0m\u001b[1;33m.\u001b[0m\u001b[0mindex\u001b[0m\u001b[1;33m\u001b[0m\u001b[0m\n",
      "\u001b[1;31mNameError\u001b[0m: name 'val' is not defined"
     ]
    }
   ],
   "source": [
    "model1 = create_submission(\n",
    "    \"submission1.csv\",\n",
    "    all_features[features1],\n",
    "    val,\n",
    "    test_X[features1],\n",
    "    test_X.index\n",
    ")\n",
    "model1.score(all_features[features1], val)"
   ]
  },
  {
   "cell_type": "code",
   "execution_count": null,
   "metadata": {},
   "outputs": [],
   "source": [
    "coefficients(model1, features1)"
   ]
  },
  {
   "cell_type": "code",
   "execution_count": null,
   "metadata": {},
   "outputs": [],
   "source": [
    "features2 = features1 + ['resting_ekg_results', 'serum_cholesterol_mg_per_dl', 'num_major_vessels', 'resting_blood_pressure']"
   ]
  },
  {
   "cell_type": "code",
   "execution_count": null,
   "metadata": {},
   "outputs": [],
   "source": [
    "model2 = create_submission(\n",
    "    \"submission2.csv\",\n",
    "    all_features[features2],\n",
    "    val,\n",
    "    test_X[features2],\n",
    "    test_X.index\n",
    ")\n",
    "\n",
    "model2.score(all_features[features2], val)"
   ]
  },
  {
   "cell_type": "code",
   "execution_count": null,
   "metadata": {},
   "outputs": [],
   "source": [
    "coef2 = coefficients(model2, features2)\n",
    "coef2.sort_values(\"coef\")"
   ]
  },
  {
   "cell_type": "code",
   "execution_count": null,
   "metadata": {},
   "outputs": [],
   "source": [
    "features3 = [x for x in features2 if x != \"resting_ekg_results\"]\n",
    "features3"
   ]
  },
  {
   "cell_type": "code",
   "execution_count": null,
   "metadata": {},
   "outputs": [],
   "source": [
    "model3 = create_submission(\n",
    "    \"submission3.csv\",\n",
    "    all_features[features3],\n",
    "    val,\n",
    "    test_X[features3],\n",
    "    test_X.index\n",
    ")\n",
    "\n",
    "model2.score(all_features[features3], val)"
   ]
  },
  {
   "cell_type": "code",
   "execution_count": null,
   "metadata": {},
   "outputs": [],
   "source": []
  }
 ],
 "metadata": {
  "kernelspec": {
   "display_name": "Python 3",
   "language": "python",
   "name": "python3"
  },
  "language_info": {
   "codemirror_mode": {
    "name": "ipython",
    "version": 3
   },
   "file_extension": ".py",
   "mimetype": "text/x-python",
   "name": "python",
   "nbconvert_exporter": "python",
   "pygments_lexer": "ipython3",
   "version": "3.6.4"
  }
 },
 "nbformat": 4,
 "nbformat_minor": 2
}
